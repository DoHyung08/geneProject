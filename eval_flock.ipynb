{
 "cells": [
  {
   "cell_type": "code",
   "execution_count": 2,
   "metadata": {},
   "outputs": [],
   "source": [
    "from stable_baselines3.common.env_checker import check_env\n",
    "from flockEnv import flockEnv  # flockEnv가 정의된 파일 import\n",
    "import numpy as np\n",
    "from pig import pig\n",
    "\n",
    "def flock_env(modelName):\n",
    "    with open(\"result\\\\\"+modelName+\"\\\\pigInfo.txt\", \"r\") as f:\n",
    "        code = f.read()\n",
    "    # 읽어온 코드 실행\n",
    "    exec(code)\n",
    "\n",
    "\n",
    "    # flockEnv 초기화: 유전자 수(geneNum), 개체 수(generation_popul), 에피소드 길이(episode_len)\n",
    "    env = flockEnv(geneNum=2, generation_popul=32, episode_len=10)\n",
    "\n",
    "\n",
    "    # 환경을 직접 실행하며 테스트\n",
    "    obs, info = env.reset()\n",
    "    #print(\"초기 관찰값:\", obs)\n",
    "\n",
    "    done = False\n",
    "    total_reward = 0\n",
    "\n",
    "    # 에피소드 실행\n",
    "    while not done:\n",
    "        # 임의의 유효한 액션 선택\n",
    "        action = env.action_space.sample()\n",
    "        \n",
    "        # step() 호출: 관찰값, 보상, 종료 여부, 추가 정보 반환\n",
    "        obs, reward, done, truncated, info = env.step()\n",
    "\n",
    "        #print(f\"관찰값: {obs}, 보상: {reward}, 종료: {done}\")\n",
    "        total_reward += reward\n",
    "\n",
    "    print(f\"총 보상: {total_reward}\")\n",
    "    return total_reward"
   ]
  },
  {
   "cell_type": "code",
   "execution_count": 3,
   "metadata": {},
   "outputs": [
    {
     "name": "stdout",
     "output_type": "stream",
     "text": [
      "Gene Environment setting success\n",
      "총 보상: 430\n",
      "Gene Environment setting success\n",
      "총 보상: 396\n",
      "Gene Environment setting success\n",
      "총 보상: 408\n",
      "Gene Environment setting success\n",
      "총 보상: 403\n",
      "Gene Environment setting success\n",
      "총 보상: 357\n",
      "Gene Environment setting success\n",
      "총 보상: 452\n",
      "Gene Environment setting success\n",
      "총 보상: 438\n",
      "Gene Environment setting success\n",
      "총 보상: 402\n",
      "Gene Environment setting success\n",
      "총 보상: 410\n",
      "Gene Environment setting success\n",
      "총 보상: 436\n",
      "[430, 396, 408, 403, 357, 452, 438, 402, 410, 436]\n",
      "41.32\n"
     ]
    }
   ],
   "source": [
    "total_rewards_Dise = []\n",
    "for i in range(10):\n",
    "    total_rewards_Dise.append(flock_env(\"TwoDise\"))\n",
    "print(total_rewards_Dise)\n",
    "print(sum(total_rewards_Dise)/len(total_rewards_Dise)/10)"
   ]
  },
  {
   "cell_type": "code",
   "execution_count": 4,
   "metadata": {},
   "outputs": [
    {
     "name": "stdout",
     "output_type": "stream",
     "text": [
      "Gene Environment setting success\n",
      "총 보상: 285\n",
      "Gene Environment setting success\n",
      "총 보상: 296\n",
      "Gene Environment setting success\n",
      "총 보상: 225\n",
      "Gene Environment setting success\n",
      "총 보상: 246\n",
      "Gene Environment setting success\n",
      "총 보상: 216\n",
      "Gene Environment setting success\n",
      "총 보상: 228\n",
      "Gene Environment setting success\n",
      "총 보상: 215\n",
      "Gene Environment setting success\n",
      "총 보상: 225\n",
      "Gene Environment setting success\n",
      "총 보상: 225\n",
      "Gene Environment setting success\n",
      "총 보상: 226\n",
      "[285, 296, 225, 246, 216, 228, 215, 225, 225, 226]\n",
      "23.869999999999997\n"
     ]
    }
   ],
   "source": [
    "total_rewards_Inverse = []\n",
    "for i in range(10):\n",
    "    total_rewards_Inverse.append(flock_env(\"TwoDiseInverse\"))\n",
    "print(total_rewards_Inverse)\n",
    "print(sum(total_rewards_Inverse)/len(total_rewards_Inverse)/10)"
   ]
  }
 ],
 "metadata": {
  "kernelspec": {
   "display_name": "geneEnv",
   "language": "python",
   "name": "python3"
  },
  "language_info": {
   "codemirror_mode": {
    "name": "ipython",
    "version": 3
   },
   "file_extension": ".py",
   "mimetype": "text/x-python",
   "name": "python",
   "nbconvert_exporter": "python",
   "pygments_lexer": "ipython3",
   "version": "3.10.14"
  }
 },
 "nbformat": 4,
 "nbformat_minor": 2
}
