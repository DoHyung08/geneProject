{
 "cells": [
  {
   "cell_type": "code",
   "execution_count": 1,
   "metadata": {},
   "outputs": [
    {
     "name": "stdout",
     "output_type": "stream",
     "text": [
      "초기 관찰값: [0 2 0 3 1 2 0 3 1 3 0 2 1 2 0 2 0 2 1 2 1 2 1 3 0 2 1 3 0 2 0 3 0 2 0 2 0\n",
      " 2 0 2 0 2 0 2 0 3 0 2 0 2 0 2 0 2 0 3 0 3 1 2 0 2 1 2]\n",
      "관찰값: [0 2 0 2 0 2 0 2 0 2 0 2 0 2 0 2 0 2 0 2 0 2 0 2 0 2 0 3 0 2 0 2 0 2 0 3 0\n",
      " 2 0 2 1 2 1 2 1 2 1 3 0 3 0 3 0 3 0 2 1 2 1 2 1 3 1 3], 보상: 46, 종료: False\n",
      "관찰값: [0 2 0 2 0 3 0 3 0 2 0 2 0 2 0 2 0 2 0 2 0 2 0 2 1 3 1 2 0 3 0 3 0 3 1 3 0\n",
      " 2 0 3 0 2 0 3 1 2 1 2 1 3 1 3 1 2 0 3 1 2 1 2 1 3 1 3], 보상: 48, 종료: False\n",
      "관찰값: [0 2 0 2 0 2 0 2 0 2 0 2 0 2 0 2 0 2 0 2 0 2 0 2 0 3 0 3 0 2 0 2 0 3 1 3 0\n",
      " 3 0 3 1 2 1 2 0 3 1 2 1 2 1 3 1 3 1 3 1 3 1 3 1 3 1 3], 보상: 38, 종료: False\n",
      "관찰값: [0 2 0 2 0 2 0 2 1 2 1 2 0 2 0 2 0 2 0 2 0 2 0 2 1 3 0 2 0 3 0 3 0 3 0 3 1\n",
      " 3 0 3 1 2 1 2 1 2 1 2 1 3 1 3 1 3 1 3 1 3 1 3 1 3 1 3], 보상: 38, 종료: False\n",
      "관찰값: [0 2 0 2 0 2 0 2 0 2 0 2 0 2 0 2 1 2 0 2 0 2 0 2 0 3 0 2 0 3 0 3 0 3 0 3 1\n",
      " 2 1 3 1 2 1 3 1 3 1 3 1 3 1 3 1 3 1 3 1 3 1 3 1 3 1 3], 보상: 33, 종료: False\n",
      "관찰값: [0 2 0 2 0 2 0 2 0 2 0 2 0 3 0 3 0 2 0 2 0 2 1 2 0 2 0 2 0 3 0 3 0 3 0 3 1\n",
      " 2 1 2 1 3 1 3 1 3 1 3 1 3 1 3 1 3 1 3 1 3 1 3 1 3 1 3], 보상: 32, 종료: False\n",
      "관찰값: [0 2 0 2 0 2 0 2 0 2 0 2 0 2 0 2 0 2 0 2 0 3 0 3 0 2 0 3 0 3 0 3 0 3 0 3 1\n",
      " 2 1 2 1 3 1 3 1 3 1 3 1 3 1 3 1 3 1 3 1 3 1 3 1 3 1 3], 보상: 31, 종료: False\n",
      "관찰값: [0 2 0 2 0 2 0 2 0 2 0 2 0 2 0 2 0 2 0 2 0 2 0 3 0 3 0 3 0 3 0 3 0 3 0 3 1\n",
      " 2 1 2 1 3 1 3 1 3 1 3 1 3 1 3 1 3 1 3 1 3 1 3 1 3 1 3], 보상: 31, 종료: False\n",
      "관찰값: [0 2 0 2 0 2 0 2 0 2 0 2 0 2 0 2 0 2 0 2 0 3 0 3 0 3 0 3 0 3 0 3 0 3 0 3 1\n",
      " 2 1 2 1 3 1 3 1 3 1 3 1 3 1 3 1 3 1 3 1 3 1 3 1 3 1 3], 보상: 31, 종료: False\n",
      "관찰값: [0 2 0 2 0 2 0 2 0 2 0 2 0 2 0 2 0 2 0 2 0 3 0 3 0 3 0 3 0 3 0 3 0 3 0 3 1\n",
      " 2 1 2 1 3 1 3 1 3 1 3 1 3 1 3 1 3 1 3 1 3 1 3 1 3 1 3], 보상: 30, 종료: True\n",
      "총 보상: 358\n"
     ]
    }
   ],
   "source": [
    "from stable_baselines3.common.env_checker import check_env\n",
    "from flockEnv import flockEnv  # flockEnv가 정의된 파일 import\n",
    "import numpy as np\n",
    "\n",
    "# flockEnv 초기화: 유전자 수(geneNum), 개체 수(generation_popul), 에피소드 길이(episode_len)\n",
    "env = flockEnv(geneNum=2, generation_popul=32, episode_len=10)\n",
    "\n",
    "\n",
    "# 환경을 직접 실행하며 테스트\n",
    "obs, info = env.reset()\n",
    "print(\"초기 관찰값:\", obs)\n",
    "\n",
    "done = False\n",
    "total_reward = 0\n",
    "\n",
    "# 에피소드 실행\n",
    "while not done:\n",
    "    # 임의의 유효한 액션 선택\n",
    "    \n",
    "    # step() 호출: 관찰값, 보상, 종료 여부, 추가 정보 반환\n",
    "    obs, reward, done, truncated, info = env.step()\n",
    "\n",
    "    print(f\"관찰값: {obs}, 보상: {reward}, 종료: {done}\")\n",
    "    total_reward += reward\n",
    "\n",
    "print(f\"총 보상: {total_reward}\")\n"
   ]
  }
 ],
 "metadata": {
  "kernelspec": {
   "display_name": "geneDesk",
   "language": "python",
   "name": "python3"
  },
  "language_info": {
   "codemirror_mode": {
    "name": "ipython",
    "version": 3
   },
   "file_extension": ".py",
   "mimetype": "text/x-python",
   "name": "python",
   "nbconvert_exporter": "python",
   "pygments_lexer": "ipython3",
   "version": "3.10.14"
  }
 },
 "nbformat": 4,
 "nbformat_minor": 2
}
