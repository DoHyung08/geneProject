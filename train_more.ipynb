{
 "cells": [
  {
   "cell_type": "code",
   "execution_count": null,
   "metadata": {},
   "outputs": [],
   "source": [
    "modelName = \"TwoDise\"\n",
    "\n",
    "from stable_baselines3.common.env_checker import check_env\n",
    "from geneEnv import geneEnv\n",
    "from pig import pig\n",
    "\n",
    "\n",
    "\n",
    "with open(\"result\\\\\"+modelName+\"\\\\pigInfo.txt\", \"r\") as f:\n",
    "    code = f.read()\n",
    "# 읽어온 코드 실행\n",
    "exec(code)\n",
    "\n",
    "\n",
    "env = geneEnv(2,32,40)\n",
    "# It will check your custom environment and output additional warnings if needed\n",
    "check_env(env)\n",
    "\n",
    "import gymnasium as gym\n",
    "\n",
    "from stable_baselines3 import PPO\n",
    "from stable_baselines3.common.vec_env import VecFrameStack\n",
    "from stable_baselines3.common.monitor import Monitor\n",
    "from geneEnv import geneEnv\n",
    "from ratioEnv import ratioEnv\n",
    "\n",
    "\n",
    "\n",
    "env = geneEnv(2,32,40)\n",
    "env = Monitor(env, filename=\"result\\\\\"+modelName+\"\\\\monitor.csv\")\n",
    "\n",
    "# print(f\"Observation space: {env.observation_space}\")\n",
    "# print(f\"Action space: {env.action_space}\")\n",
    "# print(f\"Sample observation: {env.reset()}\")\n",
    "\n",
    "model = PPO.load(\"result\\\\\"+modelName+\"\\\\trained_model\", env=env)\n",
    "model.learn(total_timesteps=800_000)\n",
    "model.save(\"result\\\\\"+modelName+\"\\\\trained_model_add\")"
   ]
  }
 ],
 "metadata": {
  "kernelspec": {
   "display_name": "geneEnv",
   "language": "python",
   "name": "python3"
  },
  "language_info": {
   "name": "python",
   "version": "3.10.14"
  }
 },
 "nbformat": 4,
 "nbformat_minor": 2
}
